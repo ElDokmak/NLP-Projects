{
 "cells": [
  {
   "cell_type": "code",
   "execution_count": 1,
   "metadata": {},
   "outputs": [
    {
     "name": "stdout",
     "output_type": "stream",
     "text": [
      "Requirement already satisfied: sentence-transformers in c:\\users\\ahmed eldokmak\\appdata\\local\\programs\\python\\python39\\lib\\site-packages (2.2.2)\n",
      "Requirement already satisfied: datasets in c:\\users\\ahmed eldokmak\\appdata\\local\\programs\\python\\python39\\lib\\site-packages (2.16.1)\n",
      "Requirement already satisfied: pinecone-client[grpc] in c:\\users\\ahmed eldokmak\\appdata\\local\\programs\\python\\python39\\lib\\site-packages (2.2.4)\n",
      "Requirement already satisfied: requests>=2.19.0 in c:\\users\\ahmed eldokmak\\appdata\\local\\programs\\python\\python39\\lib\\site-packages (from pinecone-client[grpc]) (2.31.0)\n",
      "Requirement already satisfied: pyyaml>=5.4 in c:\\users\\ahmed eldokmak\\appdata\\local\\programs\\python\\python39\\lib\\site-packages (from pinecone-client[grpc]) (6.0)\n",
      "Requirement already satisfied: loguru>=0.5.0 in c:\\users\\ahmed eldokmak\\appdata\\local\\programs\\python\\python39\\lib\\site-packages (from pinecone-client[grpc]) (0.7.0)\n",
      "Requirement already satisfied: typing-extensions>=3.7.4 in c:\\users\\ahmed eldokmak\\appdata\\local\\programs\\python\\python39\\lib\\site-packages (from pinecone-client[grpc]) (4.8.0)\n",
      "Requirement already satisfied: dnspython>=2.0.0 in c:\\users\\ahmed eldokmak\\appdata\\local\\programs\\python\\python39\\lib\\site-packages (from pinecone-client[grpc]) (2.4.2)\n",
      "Requirement already satisfied: python-dateutil>=2.5.3 in c:\\users\\ahmed eldokmak\\appdata\\local\\programs\\python\\python39\\lib\\site-packages (from pinecone-client[grpc]) (2.8.2)\n",
      "Requirement already satisfied: urllib3>=1.21.1 in c:\\users\\ahmed eldokmak\\appdata\\local\\programs\\python\\python39\\lib\\site-packages (from pinecone-client[grpc]) (1.26.15)\n",
      "Requirement already satisfied: tqdm>=4.64.1 in c:\\users\\ahmed eldokmak\\appdata\\local\\programs\\python\\python39\\lib\\site-packages (from pinecone-client[grpc]) (4.66.1)\n",
      "Requirement already satisfied: numpy>=1.22.0 in c:\\users\\ahmed eldokmak\\appdata\\local\\programs\\python\\python39\\lib\\site-packages (from pinecone-client[grpc]) (1.23.0)\n",
      "Requirement already satisfied: grpcio>=1.44.0 in c:\\users\\ahmed eldokmak\\appdata\\local\\programs\\python\\python39\\lib\\site-packages (from pinecone-client[grpc]) (1.47.0)\n",
      "Requirement already satisfied: grpc-gateway-protoc-gen-openapiv2==0.1.0 in c:\\users\\ahmed eldokmak\\appdata\\local\\programs\\python\\python39\\lib\\site-packages (from pinecone-client[grpc]) (0.1.0)\n",
      "Requirement already satisfied: googleapis-common-protos>=1.53.0 in c:\\users\\ahmed eldokmak\\appdata\\local\\programs\\python\\python39\\lib\\site-packages (from pinecone-client[grpc]) (1.62.0)\n",
      "Requirement already satisfied: lz4>=3.1.3 in c:\\users\\ahmed eldokmak\\appdata\\local\\programs\\python\\python39\\lib\\site-packages (from pinecone-client[grpc]) (4.3.3)\n",
      "Requirement already satisfied: protobuf~=3.20.0 in c:\\users\\ahmed eldokmak\\appdata\\local\\programs\\python\\python39\\lib\\site-packages (from pinecone-client[grpc]) (3.20.3)\n",
      "Requirement already satisfied: transformers<5.0.0,>=4.6.0 in c:\\users\\ahmed eldokmak\\appdata\\local\\programs\\python\\python39\\lib\\site-packages (from sentence-transformers) (4.36.2)\n",
      "Requirement already satisfied: torch>=1.6.0 in c:\\users\\ahmed eldokmak\\appdata\\local\\programs\\python\\python39\\lib\\site-packages (from sentence-transformers) (2.0.0)\n",
      "Requirement already satisfied: torchvision in c:\\users\\ahmed eldokmak\\appdata\\local\\programs\\python\\python39\\lib\\site-packages (from sentence-transformers) (0.15.1)\n",
      "Requirement already satisfied: scikit-learn in c:\\users\\ahmed eldokmak\\appdata\\local\\programs\\python\\python39\\lib\\site-packages (from sentence-transformers) (1.1.1)\n",
      "Requirement already satisfied: scipy in c:\\users\\ahmed eldokmak\\appdata\\local\\programs\\python\\python39\\lib\\site-packages (from sentence-transformers) (1.8.1)\n",
      "Requirement already satisfied: nltk in c:\\users\\ahmed eldokmak\\appdata\\local\\programs\\python\\python39\\lib\\site-packages (from sentence-transformers) (3.8.1)\n",
      "Requirement already satisfied: sentencepiece in c:\\users\\ahmed eldokmak\\appdata\\local\\programs\\python\\python39\\lib\\site-packages (from sentence-transformers) (0.1.99)\n",
      "Requirement already satisfied: huggingface-hub>=0.4.0 in c:\\users\\ahmed eldokmak\\appdata\\local\\programs\\python\\python39\\lib\\site-packages (from sentence-transformers) (0.20.2)\n",
      "Requirement already satisfied: filelock in c:\\users\\ahmed eldokmak\\appdata\\local\\programs\\python\\python39\\lib\\site-packages (from datasets) (3.10.0)\n",
      "Requirement already satisfied: pyarrow>=8.0.0 in c:\\users\\ahmed eldokmak\\appdata\\local\\programs\\python\\python39\\lib\\site-packages (from datasets) (14.0.2)\n",
      "Requirement already satisfied: pyarrow-hotfix in c:\\users\\ahmed eldokmak\\appdata\\local\\programs\\python\\python39\\lib\\site-packages (from datasets) (0.6)\n",
      "Requirement already satisfied: dill<0.3.8,>=0.3.0 in c:\\users\\ahmed eldokmak\\appdata\\local\\programs\\python\\python39\\lib\\site-packages (from datasets) (0.3.7)\n",
      "Requirement already satisfied: pandas in c:\\users\\ahmed eldokmak\\appdata\\local\\programs\\python\\python39\\lib\\site-packages (from datasets) (1.4.3)\n",
      "Requirement already satisfied: xxhash in c:\\users\\ahmed eldokmak\\appdata\\local\\programs\\python\\python39\\lib\\site-packages (from datasets) (3.4.1)\n",
      "Requirement already satisfied: multiprocess in c:\\users\\ahmed eldokmak\\appdata\\local\\programs\\python\\python39\\lib\\site-packages (from datasets) (0.70.15)\n",
      "Requirement already satisfied: fsspec<=2023.10.0,>=2023.1.0 in c:\\users\\ahmed eldokmak\\appdata\\local\\programs\\python\\python39\\lib\\site-packages (from fsspec[http]<=2023.10.0,>=2023.1.0->datasets) (2023.9.2)\n",
      "Requirement already satisfied: aiohttp in c:\\users\\ahmed eldokmak\\appdata\\local\\programs\\python\\python39\\lib\\site-packages (from datasets) (3.8.5)\n",
      "Requirement already satisfied: packaging in c:\\users\\ahmed eldokmak\\appdata\\local\\programs\\python\\python39\\lib\\site-packages (from datasets) (21.3)\n",
      "Requirement already satisfied: attrs>=17.3.0 in c:\\users\\ahmed eldokmak\\appdata\\local\\programs\\python\\python39\\lib\\site-packages (from aiohttp->datasets) (21.4.0)\n",
      "Requirement already satisfied: charset-normalizer<4.0,>=2.0 in c:\\users\\ahmed eldokmak\\appdata\\local\\programs\\python\\python39\\lib\\site-packages (from aiohttp->datasets) (2.0.7)\n",
      "Requirement already satisfied: multidict<7.0,>=4.5 in c:\\users\\ahmed eldokmak\\appdata\\local\\programs\\python\\python39\\lib\\site-packages (from aiohttp->datasets) (6.0.2)\n",
      "Requirement already satisfied: async-timeout<5.0,>=4.0.0a3 in c:\\users\\ahmed eldokmak\\appdata\\local\\programs\\python\\python39\\lib\\site-packages (from aiohttp->datasets) (4.0.2)\n",
      "Requirement already satisfied: yarl<2.0,>=1.0 in c:\\users\\ahmed eldokmak\\appdata\\local\\programs\\python\\python39\\lib\\site-packages (from aiohttp->datasets) (1.8.1)\n",
      "Requirement already satisfied: frozenlist>=1.1.1 in c:\\users\\ahmed eldokmak\\appdata\\local\\programs\\python\\python39\\lib\\site-packages (from aiohttp->datasets) (1.3.1)\n",
      "Requirement already satisfied: aiosignal>=1.1.2 in c:\\users\\ahmed eldokmak\\appdata\\local\\programs\\python\\python39\\lib\\site-packages (from aiohttp->datasets) (1.2.0)\n",
      "Requirement already satisfied: six>=1.5.2 in c:\\users\\ahmed eldokmak\\appdata\\local\\programs\\python\\python39\\lib\\site-packages (from grpcio>=1.44.0->pinecone-client[grpc]) (1.16.0)\n",
      "Requirement already satisfied: colorama>=0.3.4 in c:\\users\\ahmed eldokmak\\appdata\\roaming\\python\\python39\\site-packages (from loguru>=0.5.0->pinecone-client[grpc]) (0.4.4)\n",
      "Requirement already satisfied: win32-setctime>=1.0.0 in c:\\users\\ahmed eldokmak\\appdata\\local\\programs\\python\\python39\\lib\\site-packages (from loguru>=0.5.0->pinecone-client[grpc]) (1.1.0)\n",
      "Requirement already satisfied: pyparsing!=3.0.5,>=2.0.2 in c:\\users\\ahmed eldokmak\\appdata\\local\\programs\\python\\python39\\lib\\site-packages (from packaging->datasets) (3.0.9)\n",
      "Requirement already satisfied: idna<4,>=2.5 in c:\\users\\ahmed eldokmak\\appdata\\local\\programs\\python\\python39\\lib\\site-packages (from requests>=2.19.0->pinecone-client[grpc]) (3.3)\n",
      "Requirement already satisfied: certifi>=2017.4.17 in c:\\users\\ahmed eldokmak\\appdata\\local\\programs\\python\\python39\\lib\\site-packages (from requests>=2.19.0->pinecone-client[grpc]) (2021.10.8)\n",
      "Requirement already satisfied: sympy in c:\\users\\ahmed eldokmak\\appdata\\local\\programs\\python\\python39\\lib\\site-packages (from torch>=1.6.0->sentence-transformers) (1.11.1)\n",
      "Requirement already satisfied: networkx in c:\\users\\ahmed eldokmak\\appdata\\local\\programs\\python\\python39\\lib\\site-packages (from torch>=1.6.0->sentence-transformers) (2.8.4)\n",
      "Requirement already satisfied: jinja2 in c:\\users\\ahmed eldokmak\\appdata\\local\\programs\\python\\python39\\lib\\site-packages (from torch>=1.6.0->sentence-transformers) (3.1.2)\n",
      "Requirement already satisfied: regex!=2019.12.17 in c:\\users\\ahmed eldokmak\\appdata\\local\\programs\\python\\python39\\lib\\site-packages (from transformers<5.0.0,>=4.6.0->sentence-transformers) (2023.10.3)\n",
      "Requirement already satisfied: tokenizers<0.19,>=0.14 in c:\\users\\ahmed eldokmak\\appdata\\local\\programs\\python\\python39\\lib\\site-packages (from transformers<5.0.0,>=4.6.0->sentence-transformers) (0.15.0)\n",
      "Requirement already satisfied: safetensors>=0.3.1 in c:\\users\\ahmed eldokmak\\appdata\\local\\programs\\python\\python39\\lib\\site-packages (from transformers<5.0.0,>=4.6.0->sentence-transformers) (0.4.1)\n",
      "Requirement already satisfied: click in c:\\users\\ahmed eldokmak\\appdata\\local\\programs\\python\\python39\\lib\\site-packages (from nltk->sentence-transformers) (8.0.3)\n",
      "Requirement already satisfied: joblib in c:\\users\\ahmed eldokmak\\appdata\\local\\programs\\python\\python39\\lib\\site-packages (from nltk->sentence-transformers) (1.1.0)\n",
      "Requirement already satisfied: pytz>=2020.1 in c:\\users\\ahmed eldokmak\\appdata\\local\\programs\\python\\python39\\lib\\site-packages (from pandas->datasets) (2022.1)\n",
      "Requirement already satisfied: threadpoolctl>=2.0.0 in c:\\users\\ahmed eldokmak\\appdata\\local\\programs\\python\\python39\\lib\\site-packages (from scikit-learn->sentence-transformers) (3.1.0)\n",
      "Requirement already satisfied: pillow!=8.3.*,>=5.3.0 in c:\\users\\ahmed eldokmak\\appdata\\local\\programs\\python\\python39\\lib\\site-packages (from torchvision->sentence-transformers) (8.4.0)\n",
      "Requirement already satisfied: MarkupSafe>=2.0 in c:\\users\\ahmed eldokmak\\appdata\\local\\programs\\python\\python39\\lib\\site-packages (from jinja2->torch>=1.6.0->sentence-transformers) (2.1.1)\n",
      "Requirement already satisfied: mpmath>=0.19 in c:\\users\\ahmed eldokmak\\appdata\\local\\programs\\python\\python39\\lib\\site-packages (from sympy->torch>=1.6.0->sentence-transformers) (1.3.0)\n"
     ]
    }
   ],
   "source": [
    "!pip install \"pinecone-client[grpc]\" sentence-transformers datasets"
   ]
  },
  {
   "cell_type": "markdown",
   "metadata": {},
   "source": [
    "### Load [dataset](https://huggingface.co/datasets/quora)"
   ]
  },
  {
   "cell_type": "code",
   "execution_count": 2,
   "metadata": {},
   "outputs": [
    {
     "name": "stderr",
     "output_type": "stream",
     "text": [
      "c:\\users\\ahmed eldokmak\\appdata\\local\\programs\\python\\python39\\lib\\site-packages\\tqdm\\auto.py:21: TqdmWarning: IProgress not found. Please update jupyter and ipywidgets. See https://ipywidgets.readthedocs.io/en/stable/user_install.html\n",
      "  from .autonotebook import tqdm as notebook_tqdm\n"
     ]
    }
   ],
   "source": [
    "from datasets import load_dataset\n",
    "\n",
    "dataset = load_dataset(\"quora\", split=\"train[0:50000]\")"
   ]
  },
  {
   "cell_type": "code",
   "execution_count": 3,
   "metadata": {
    "scrolled": true
   },
   "outputs": [
    {
     "data": {
      "text/plain": [
       "Dataset({\n",
       "    features: ['questions', 'is_duplicate'],\n",
       "    num_rows: 50000\n",
       "})"
      ]
     },
     "execution_count": 3,
     "metadata": {},
     "output_type": "execute_result"
    }
   ],
   "source": [
    "dataset"
   ]
  },
  {
   "cell_type": "code",
   "execution_count": 4,
   "metadata": {},
   "outputs": [
    {
     "data": {
      "text/plain": [
       "{'questions': [{'id': [1, 2],\n",
       "   'text': ['What is the step by step guide to invest in share market in india?',\n",
       "    'What is the step by step guide to invest in share market?']},\n",
       "  {'id': [3, 4],\n",
       "   'text': ['What is the story of Kohinoor (Koh-i-Noor) Diamond?',\n",
       "    'What would happen if the Indian government stole the Kohinoor (Koh-i-Noor) diamond back?']},\n",
       "  {'id': [5, 6],\n",
       "   'text': ['How can I increase the speed of my internet connection while using a VPN?',\n",
       "    'How can Internet speed be increased by hacking through DNS?']},\n",
       "  {'id': [7, 8],\n",
       "   'text': ['Why am I mentally very lonely? How can I solve it?',\n",
       "    'Find the remainder when [math]23^{24}[/math] is divided by 24,23?']},\n",
       "  {'id': [9, 10],\n",
       "   'text': ['Which one dissolve in water quikly sugar, salt, methane and carbon di oxide?',\n",
       "    'Which fish would survive in salt water?']}],\n",
       " 'is_duplicate': [False, False, False, False, False]}"
      ]
     },
     "execution_count": 4,
     "metadata": {},
     "output_type": "execute_result"
    }
   ],
   "source": [
    "dataset[:5]"
   ]
  },
  {
   "cell_type": "code",
   "execution_count": 6,
   "metadata": {
    "scrolled": false
   },
   "outputs": [
    {
     "data": {
      "text/html": [
       "<div>\n",
       "<style scoped>\n",
       "    .dataframe tbody tr th:only-of-type {\n",
       "        vertical-align: middle;\n",
       "    }\n",
       "\n",
       "    .dataframe tbody tr th {\n",
       "        vertical-align: top;\n",
       "    }\n",
       "\n",
       "    .dataframe thead th {\n",
       "        text-align: right;\n",
       "    }\n",
       "</style>\n",
       "<table border=\"1\" class=\"dataframe\">\n",
       "  <thead>\n",
       "    <tr style=\"text-align: right;\">\n",
       "      <th></th>\n",
       "      <th>questions</th>\n",
       "      <th>is_duplicate</th>\n",
       "    </tr>\n",
       "  </thead>\n",
       "  <tbody>\n",
       "    <tr>\n",
       "      <th>0</th>\n",
       "      <td>{'id': [1, 2], 'text': ['What is the step by s...</td>\n",
       "      <td>False</td>\n",
       "    </tr>\n",
       "    <tr>\n",
       "      <th>1</th>\n",
       "      <td>{'id': [3, 4], 'text': ['What is the story of ...</td>\n",
       "      <td>False</td>\n",
       "    </tr>\n",
       "    <tr>\n",
       "      <th>2</th>\n",
       "      <td>{'id': [5, 6], 'text': ['How can I increase th...</td>\n",
       "      <td>False</td>\n",
       "    </tr>\n",
       "    <tr>\n",
       "      <th>3</th>\n",
       "      <td>{'id': [7, 8], 'text': ['Why am I mentally ver...</td>\n",
       "      <td>False</td>\n",
       "    </tr>\n",
       "    <tr>\n",
       "      <th>4</th>\n",
       "      <td>{'id': [9, 10], 'text': ['Which one dissolve i...</td>\n",
       "      <td>False</td>\n",
       "    </tr>\n",
       "  </tbody>\n",
       "</table>\n",
       "</div>"
      ],
      "text/plain": [
       "                                           questions  is_duplicate\n",
       "0  {'id': [1, 2], 'text': ['What is the step by s...         False\n",
       "1  {'id': [3, 4], 'text': ['What is the story of ...         False\n",
       "2  {'id': [5, 6], 'text': ['How can I increase th...         False\n",
       "3  {'id': [7, 8], 'text': ['Why am I mentally ver...         False\n",
       "4  {'id': [9, 10], 'text': ['Which one dissolve i...         False"
      ]
     },
     "execution_count": 6,
     "metadata": {},
     "output_type": "execute_result"
    }
   ],
   "source": [
    "import pandas as pd\n",
    "from IPython.display import display\n",
    "\n",
    "pd.DataFrame(dataset[:5])"
   ]
  },
  {
   "cell_type": "markdown",
   "metadata": {},
   "source": [
    "### Preprocess dataset\n",
    "Wrapping all questions in one text"
   ]
  },
  {
   "cell_type": "code",
   "execution_count": 7,
   "metadata": {},
   "outputs": [
    {
     "name": "stdout",
     "output_type": "stream",
     "text": [
      "What is a good way to make an eCommerce website?\n",
      "What is the equation to convert a decimal into a fraction?5.83\n",
      "Which phone to buy Moto m or one plus 3t?\n",
      "If you're in a mediocre relationship and connect deeper than ever before with another, what is the better path - staying true, or pursuing the other?\n",
      "I leveraged 100K to secure a loan for a startup, I don't need to touch the 100K to get the business started, what should I do with the 100K?\n",
      "88884\n"
     ]
    }
   ],
   "source": [
    "questions = []\n",
    "\n",
    "for question in dataset['questions']:\n",
    "    questions.extend(question['text'])\n",
    "    \n",
    "questions = list(set(questions)) # Remove duplicates\n",
    "print('\\n'.join(questions[:5]))\n",
    "print(len(questions))"
   ]
  },
  {
   "cell_type": "markdown",
   "metadata": {},
   "source": [
    "### Model Loading "
   ]
  },
  {
   "cell_type": "code",
   "execution_count": 8,
   "metadata": {
    "scrolled": true
   },
   "outputs": [
    {
     "data": {
      "text/plain": [
       "SentenceTransformer(\n",
       "  (0): Transformer({'max_seq_length': 256, 'do_lower_case': False}) with Transformer model: BertModel \n",
       "  (1): Pooling({'word_embedding_dimension': 384, 'pooling_mode_cls_token': False, 'pooling_mode_mean_tokens': True, 'pooling_mode_max_tokens': False, 'pooling_mode_mean_sqrt_len_tokens': False})\n",
       "  (2): Normalize()\n",
       ")"
      ]
     },
     "execution_count": 8,
     "metadata": {},
     "output_type": "execute_result"
    }
   ],
   "source": [
    "from sentence_transformers import SentenceTransformer\n",
    "import torch \n",
    "\n",
    "device = 'cuda' if torch.cuda.is_available() else 'cpu'\n",
    "\n",
    "model = SentenceTransformer('all-MiniLM-L6-v2', device = device)\n",
    "model"
   ]
  },
  {
   "cell_type": "markdown",
   "metadata": {},
   "source": [
    "##### Notes\n",
    "1. max_seq_length: 256 the max number of tokens that can be encoded into one vector (Longer will be truncated)\n",
    "2. word_embedding_dimension: 384 the dim of output vector embedding\n",
    "3. Normalize "
   ]
  },
  {
   "cell_type": "markdown",
   "metadata": {},
   "source": [
    "### Creating Index"
   ]
  },
  {
   "cell_type": "code",
   "execution_count": null,
   "metadata": {},
   "outputs": [],
   "source": [
    "_id = '0'\n",
    "metadata = {'text', query}\n",
    "\n",
    "# The format of the index \n",
    "vectors = [(_id, xq, metadata)]"
   ]
  },
  {
   "cell_type": "code",
   "execution_count": 9,
   "metadata": {},
   "outputs": [],
   "source": [
    "import os \n",
    "import pinecone\n",
    "\n",
    "pinecone.init(\n",
    "    api_key = '28cf584c-61e4-4185-81eb-aff482cef12c',\n",
    "    environment = 'gcp-starter'\n",
    ")"
   ]
  },
  {
   "cell_type": "code",
   "execution_count": 10,
   "metadata": {},
   "outputs": [],
   "source": [
    "index_name = \"semantic-search\"\n",
    "\n",
    "pinecone.create_index(\n",
    "    name = index_name,\n",
    "    dimension = model.get_sentence_embedding_dimension(),\n",
    "    metric = 'cosine'\n",
    ")\n",
    "\n",
    "index = pinecone.GRPCIndex(index_name)"
   ]
  },
  {
   "cell_type": "code",
   "execution_count": 11,
   "metadata": {},
   "outputs": [
    {
     "name": "stderr",
     "output_type": "stream",
     "text": [
      "100%|████████████████████████████████████████████████████████████████████████████████████████████████████████████████████████████████████████████████| 695/695 [20:38<00:00,  1.78s/it]\n"
     ]
    },
    {
     "data": {
      "text/plain": [
       "{'dimension': 384,\n",
       " 'index_fullness': 0.8768,\n",
       " 'namespaces': {'': {'vector_count': 87680}},\n",
       " 'total_vector_count': 87680}"
      ]
     },
     "execution_count": 11,
     "metadata": {},
     "output_type": "execute_result"
    }
   ],
   "source": [
    "from tqdm.auto import tqdm\n",
    "\n",
    "batch_size = 128\n",
    "vector_limit = 100000\n",
    "\n",
    "questions = questions[:vector_limit]\n",
    "\n",
    "for i in tqdm(range(0, len(questions), batch_size)):\n",
    "    # find end of batch\n",
    "    i_end = min(i+batch_size, len(questions))\n",
    "    # create IDs batch\n",
    "    ids = [str(x) for x in range(i, i_end)]\n",
    "    # create metadata batch\n",
    "    metadatas = [{'text': text} for text in questions[i:i_end]]\n",
    "    # create embeddings\n",
    "    xc = model.encode(questions[i:i_end])\n",
    "    # create records list for upsert\n",
    "    records = zip(ids, xc, metadatas)\n",
    "    # upsert to Pinecone\n",
    "    index.upsert(vectors=records)\n",
    "\n",
    "# check number of records in the index\n",
    "index.describe_index_stats()"
   ]
  },
  {
   "cell_type": "markdown",
   "metadata": {},
   "source": [
    "### Testing"
   ]
  },
  {
   "cell_type": "code",
   "execution_count": 12,
   "metadata": {},
   "outputs": [
    {
     "data": {
      "text/plain": [
       "{'matches': [{'id': '35907',\n",
       "              'metadata': {'text': \"What's the world's largest city?\"},\n",
       "              'score': 0.7859108,\n",
       "              'sparse_values': {'indices': [], 'values': []},\n",
       "              'values': []},\n",
       "             {'id': '51947',\n",
       "              'metadata': {'text': 'What is the biggest city?'},\n",
       "              'score': 0.72731686,\n",
       "              'sparse_values': {'indices': [], 'values': []},\n",
       "              'values': []},\n",
       "             {'id': '72666',\n",
       "              'metadata': {'text': \"What are the world's most advanced \"\n",
       "                                   'cities?'},\n",
       "              'score': 0.71006703,\n",
       "              'sparse_values': {'indices': [], 'values': []},\n",
       "              'values': []},\n",
       "             {'id': '13794',\n",
       "              'metadata': {'text': 'Which city in the world has the lowest '\n",
       "                                   'crime rate and why?'},\n",
       "              'score': 0.64893097,\n",
       "              'sparse_values': {'indices': [], 'values': []},\n",
       "              'values': []},\n",
       "             {'id': '36701',\n",
       "              'metadata': {'text': 'Which is the largest country in the '\n",
       "                                   'world?'},\n",
       "              'score': 0.64403516,\n",
       "              'sparse_values': {'indices': [], 'values': []},\n",
       "              'values': []}],\n",
       " 'namespace': ''}"
      ]
     },
     "execution_count": 12,
     "metadata": {},
     "output_type": "execute_result"
    }
   ],
   "source": [
    "query = \"which city has the highest population in the world?\"\n",
    "\n",
    "# create the query vector\n",
    "xq = model.encode(query).tolist()\n",
    "\n",
    "# now query\n",
    "xc = index.query(xq, top_k=5, include_metadata=True)\n",
    "xc"
   ]
  },
  {
   "cell_type": "code",
   "execution_count": 13,
   "metadata": {},
   "outputs": [
    {
     "name": "stdout",
     "output_type": "stream",
     "text": [
      "0.79: What's the world's largest city?\n",
      "0.73: What is the biggest city?\n",
      "0.71: What are the world's most advanced cities?\n",
      "0.65: Which city in the world has the lowest crime rate and why?\n",
      "0.64: Which is the largest country in the world?\n"
     ]
    }
   ],
   "source": [
    "for result in xc['matches']:\n",
    "    print(f\"{round(result['score'], 2)}: {result['metadata']['text']}\")"
   ]
  },
  {
   "cell_type": "code",
   "execution_count": 14,
   "metadata": {},
   "outputs": [
    {
     "name": "stdout",
     "output_type": "stream",
     "text": [
      "0.66: What are some interesting facts about Egypt?\n",
      "0.66: What is the capital of India?\n",
      "0.66: What are interesting facts about Egypt?\n",
      "0.64: What is it like to live in Egypt?\n",
      "0.63: What is it like to live in Egypt today?\n"
     ]
    }
   ],
   "source": [
    "query = \"what is the capital of Egypt?\"\n",
    "\n",
    "# create the query vector\n",
    "xq = model.encode(query).tolist()\n",
    "\n",
    "# now query\n",
    "xc = index.query(xq, top_k=5, include_metadata=True)\n",
    "for result in xc['matches']:\n",
    "    print(f\"{round(result['score'], 2)}: {result['metadata']['text']}\")\n",
    "     "
   ]
  },
  {
   "cell_type": "code",
   "execution_count": 15,
   "metadata": {},
   "outputs": [
    {
     "name": "stdout",
     "output_type": "stream",
     "text": [
      "0.93: How can I speed up my Internet connection?\n",
      "0.9: How can I speed up my Internet connectionn?\n",
      "0.82: How do I increase download speed?\n",
      "0.82: How can one speed up the Internet?\n",
      "0.79: How can I increase the speed of my internet connection while using a VPN?\n"
     ]
    }
   ],
   "source": [
    "query = \"How can I increase the speed of my internet connection?\"\n",
    "\n",
    "# create the query vector\n",
    "xq = model.encode(query).tolist()\n",
    "\n",
    "# now query\n",
    "xc = index.query(xq, top_k=5, include_metadata=True)\n",
    "for result in xc['matches']:\n",
    "    print(f\"{round(result['score'], 2)}: {result['metadata']['text']}\")\n",
    "     "
   ]
  },
  {
   "cell_type": "code",
   "execution_count": null,
   "metadata": {},
   "outputs": [],
   "source": []
  }
 ],
 "metadata": {
  "kernelspec": {
   "display_name": "Python 3 (ipykernel)",
   "language": "python",
   "name": "python3"
  },
  "language_info": {
   "codemirror_mode": {
    "name": "ipython",
    "version": 3
   },
   "file_extension": ".py",
   "mimetype": "text/x-python",
   "name": "python",
   "nbconvert_exporter": "python",
   "pygments_lexer": "ipython3",
   "version": "3.9.2"
  }
 },
 "nbformat": 4,
 "nbformat_minor": 2
}
